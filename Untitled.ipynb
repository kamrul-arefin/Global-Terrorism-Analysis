{
 "cells": [
  {
   "cell_type": "code",
   "execution_count": 2,
   "id": "39581fb6-6a28-4d68-9c30-339a44dfa4b9",
   "metadata": {},
   "outputs": [
    {
     "ename": "NameError",
     "evalue": "name 'library' is not defined",
     "output_type": "error",
     "traceback": [
      "\u001b[1;31m---------------------------------------------------------------------------\u001b[0m",
      "\u001b[1;31mNameError\u001b[0m                                 Traceback (most recent call last)",
      "Cell \u001b[1;32mIn[2], line 1\u001b[0m\n\u001b[1;32m----> 1\u001b[0m library(tidyverse)\n\u001b[0;32m      2\u001b[0m library(GGally)\n\u001b[0;32m      3\u001b[0m library(rworldmap)\n",
      "\u001b[1;31mNameError\u001b[0m: name 'library' is not defined"
     ]
    }
   ],
   "source": [
    "library(tidyverse)\n",
    "library(GGally)\n",
    "library(rworldmap)\n",
    "library(ggrepel)\n",
    "library(mapproj)"
   ]
  },
  {
   "cell_type": "code",
   "execution_count": null,
   "id": "0a089dfa-8906-450f-9960-d2512bb6a025",
   "metadata": {},
   "outputs": [],
   "source": []
  }
 ],
 "metadata": {
  "kernelspec": {
   "display_name": "Python [conda env:base] *",
   "language": "python",
   "name": "conda-base-py"
  },
  "language_info": {
   "codemirror_mode": {
    "name": "ipython",
    "version": 3
   },
   "file_extension": ".py",
   "mimetype": "text/x-python",
   "name": "python",
   "nbconvert_exporter": "python",
   "pygments_lexer": "ipython3",
   "version": "3.13.5"
  }
 },
 "nbformat": 4,
 "nbformat_minor": 5
}
